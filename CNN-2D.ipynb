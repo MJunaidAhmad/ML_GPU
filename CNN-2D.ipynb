{
 "cells": [
  {
   "cell_type": "code",
   "execution_count": 37,
   "metadata": {},
   "outputs": [],
   "source": [
    "from __future__ import print_function\n",
    "from keras.datasets import mnist\n",
    "from keras.models import Sequential\n",
    "from keras.layers import Dense, Dropout, Flatten\n",
    "from keras.layers import Conv2D, MaxPooling2D\n",
    "from keras import backend as K\n",
    "from keras.callbacks import ModelCheckpoint\n"
   ]
  },
  {
   "cell_type": "code",
   "execution_count": 38,
   "metadata": {},
   "outputs": [],
   "source": [
    "\n",
    "batch_size = 128\n",
    "num_classes = 10\n",
    "epochs = 12\n",
    "\n",
    "# input image dimensions\n",
    "img_rows, img_cols = 28, 28\n",
    "\n",
    "# the data, shuffled and split between train and test sets\n",
    "(x_train, y_train), (x_test, y_test) = mnist.load_data()\n"
   ]
  },
  {
   "cell_type": "code",
   "execution_count": 39,
   "metadata": {},
   "outputs": [
    {
     "name": "stdout",
     "output_type": "stream",
     "text": [
      "x_train shape: (60000, 28, 28, 1)\n",
      "60000 train samples\n",
      "10000 test samples\n"
     ]
    }
   ],
   "source": [
    "\n",
    "if K.image_data_format() == 'channels_first':\n",
    "    x_train = x_train.reshape(x_train.shape[0], 1, img_rows, img_cols)\n",
    "    x_test = x_test.reshape(x_test.shape[0], 1, img_rows, img_cols)\n",
    "    input_shape = (1, img_rows, img_cols)\n",
    "else:\n",
    "    x_train = x_train.reshape(x_train.shape[0], img_rows, img_cols, 1)\n",
    "    x_test = x_test.reshape(x_test.shape[0], img_rows, img_cols, 1)\n",
    "    input_shape = (img_rows, img_cols, 1)\n",
    "\n",
    "x_train = x_train.astype('float32')\n",
    "x_test = x_test.astype('float32')\n",
    "x_train /= 255\n",
    "x_test /= 255\n",
    "print('x_train shape:', x_train.shape)\n",
    "print(x_train.shape[0], 'train samples')\n",
    "print(x_test.shape[0], 'test samples')\n",
    "\n"
   ]
  },
  {
   "cell_type": "code",
   "execution_count": 40,
   "metadata": {
    "collapsed": true
   },
   "outputs": [],
   "source": [
    "# convert class vectors to binary class matrices\n",
    "y_train = keras.utils.to_categorical(y_train, num_classes)\n",
    "y_test = keras.utils.to_categorical(y_test, num_classes)\n",
    "\n"
   ]
  },
  {
   "cell_type": "code",
   "execution_count": 41,
   "metadata": {
    "collapsed": true
   },
   "outputs": [],
   "source": [
    "model = Sequential()\n",
    "model.add(Conv2D(32, kernel_size=(3, 3),\n",
    "                 activation='relu',\n",
    "                 input_shape=input_shape))\n",
    "model.add(Conv2D(64, (3, 3), activation='relu'))\n",
    "model.add(MaxPooling2D(pool_size=(2, 2)))\n",
    "model.add(Dropout(0.25))\n",
    "model.add(Flatten())\n",
    "model.add(Dense(128, activation='relu'))\n",
    "model.add(Dropout(0.5))\n",
    "model.add(Dense(num_classes, activation='softmax'))\n"
   ]
  },
  {
   "cell_type": "code",
   "execution_count": null,
   "metadata": {
    "collapsed": true
   },
   "outputs": [],
   "source": [
    "\n",
    "model.compile(loss=keras.losses.categorical_crossentropy,\n",
    "              optimizer=keras.optimizers.Adadelta(),\n",
    "              metrics=['accuracy'])\n",
    "# load weights\n",
    "model.load_weights(\"weights.best.hdf5\")\n",
    "\n",
    "# checkpoint\n",
    "filepath=\"weights.best.hdf5\"\n",
    "checkpoint = ModelCheckpoint(filepath, monitor='val_acc', verbose=1, save_best_only=True, mode='max')\n",
    "callbacks_list = [checkpoint]\n"
   ]
  },
  {
   "cell_type": "code",
   "execution_count": null,
   "metadata": {},
   "outputs": [
    {
     "name": "stdout",
     "output_type": "stream",
     "text": [
      "Train on 60000 samples, validate on 10000 samples\n",
      "Epoch 1/12\n",
      "59904/60000 [============================>.] - ETA: 0s - loss: 0.0326 - acc: 0.9904Epoch 00000: val_acc improved from -inf to 0.99070, saving model to weights.best.hdf5\n",
      "60000/60000 [==============================] - 32s - loss: 0.0326 - acc: 0.9904 - val_loss: 0.0281 - val_acc: 0.9907\n",
      "Epoch 2/12\n",
      "59904/60000 [============================>.] - ETA: 0s - loss: 0.0295 - acc: 0.9907Epoch 00001: val_acc improved from 0.99070 to 0.99100, saving model to weights.best.hdf5\n",
      "60000/60000 [==============================] - 32s - loss: 0.0295 - acc: 0.9907 - val_loss: 0.0270 - val_acc: 0.9910\n",
      "Epoch 3/12\n",
      "59904/60000 [============================>.] - ETA: 0s - loss: 0.0312 - acc: 0.9908Epoch 00002: val_acc did not improve\n",
      "60000/60000 [==============================] - 32s - loss: 0.0312 - acc: 0.9908 - val_loss: 0.0282 - val_acc: 0.9906\n",
      "Epoch 4/12\n",
      "59904/60000 [============================>.] - ETA: 0s - loss: 0.0300 - acc: 0.9908Epoch 00003: val_acc did not improve\n",
      "60000/60000 [==============================] - 32s - loss: 0.0301 - acc: 0.9907 - val_loss: 0.0294 - val_acc: 0.9910\n",
      "Epoch 5/12\n",
      "59904/60000 [============================>.] - ETA: 0s - loss: 0.0288 - acc: 0.9913Epoch 00004: val_acc did not improve\n",
      "60000/60000 [==============================] - 32s - loss: 0.0288 - acc: 0.9913 - val_loss: 0.0296 - val_acc: 0.9902\n",
      "Epoch 6/12\n",
      "59904/60000 [============================>.] - ETA: 0s - loss: 0.0283 - acc: 0.9915Epoch 00005: val_acc improved from 0.99100 to 0.99120, saving model to weights.best.hdf5\n",
      "60000/60000 [==============================] - 32s - loss: 0.0283 - acc: 0.9915 - val_loss: 0.0275 - val_acc: 0.9912\n",
      "Epoch 7/12\n",
      "59904/60000 [============================>.] - ETA: 0s - loss: 0.0281 - acc: 0.9915Epoch 00006: val_acc did not improve\n",
      "60000/60000 [==============================] - 32s - loss: 0.0281 - acc: 0.9915 - val_loss: 0.0307 - val_acc: 0.9906\n",
      "Epoch 8/12\n",
      "59904/60000 [============================>.] - ETA: 0s - loss: 0.0285 - acc: 0.9910Epoch 00007: val_acc did not improve\n",
      "60000/60000 [==============================] - 32s - loss: 0.0285 - acc: 0.9910 - val_loss: 0.0316 - val_acc: 0.9904\n",
      "Epoch 9/12\n",
      "59904/60000 [============================>.] - ETA: 0s - loss: 0.0283 - acc: 0.9910Epoch 00008: val_acc did not improve\n",
      "60000/60000 [==============================] - 32s - loss: 0.0282 - acc: 0.9910 - val_loss: 0.0277 - val_acc: 0.9903\n",
      "Epoch 10/12\n",
      "59904/60000 [============================>.] - ETA: 0s - loss: 0.0293 - acc: 0.9911Epoch 00009: val_acc improved from 0.99120 to 0.99180, saving model to weights.best.hdf5\n",
      "60000/60000 [==============================] - 32s - loss: 0.0294 - acc: 0.9910 - val_loss: 0.0262 - val_acc: 0.9918\n",
      "Epoch 11/12\n",
      "59904/60000 [============================>.] - ETA: 0s - loss: 0.0272 - acc: 0.9920Epoch 00010: val_acc did not improve\n",
      "60000/60000 [==============================] - 32s - loss: 0.0272 - acc: 0.9920 - val_loss: 0.0291 - val_acc: 0.9908\n",
      "Epoch 12/12\n",
      "59904/60000 [============================>.] - ETA: 0s - loss: 0.0280 - acc: 0.9921Epoch 00011: val_acc did not improve\n",
      "60000/60000 [==============================] - 32s - loss: 0.0279 - acc: 0.9921 - val_loss: 0.0274 - val_acc: 0.9916\n"
     ]
    }
   ],
   "source": [
    "\n",
    "model.fit(x_train, y_train,\n",
    "          batch_size=batch_size,\n",
    "          epochs=epochs,\n",
    "          callbacks=callbacks_list,\n",
    "          verbose=1,\n",
    "          validation_data=(x_test, y_test))\n",
    "score = model.evaluate(x_test, y_test, verbose=0)\n",
    "print('Test loss:', score[0])"
   ]
  },
  {
   "cell_type": "code",
   "execution_count": null,
   "metadata": {
    "collapsed": true
   },
   "outputs": [],
   "source": []
  }
 ],
 "metadata": {
  "kernelspec": {
   "display_name": "Python 2",
   "language": "python",
   "name": "python2"
  }
 },
 "nbformat": 4,
 "nbformat_minor": 2
}
